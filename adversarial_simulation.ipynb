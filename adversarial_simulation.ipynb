{
 "cells": [
  {
   "cell_type": "code",
   "execution_count": 2,
   "id": "cb923975",
   "metadata": {},
   "outputs": [],
   "source": [
    "from typing import Optional, Dict, Any\n",
    "import os\n",
    "from azure.ai.evaluation.red_team import RedTeam, RiskCategory, AttackStrategy\n",
    "from openai import AzureOpenAI\n",
    "from azure.identity import AzureCliCredential, get_bearer_token_provider, DefaultAzureCredential"
   ]
  },
  {
   "cell_type": "code",
   "execution_count": 3,
   "id": "c7f69af2",
   "metadata": {},
   "outputs": [],
   "source": [
    "# Initialize Azure credentials\n",
    "\n",
    "credential = AzureCliCredential()\n",
    "# print(credential)"
   ]
  },
  {
   "cell_type": "code",
   "execution_count": null,
   "id": "465a1eff",
   "metadata": {},
   "outputs": [],
   "source": [
    "# ----- Configuration -----\n",
    "# Azure AI Project information\n",
    "azure_ai_project = os.environ.get(\"RED_TEAM_PROJECT_ENDPOINT\")\n",
    "\n",
    "# Azure OpenAI deployment information\n",
    "# azure_openai_deployment = os.environ.get(\"AZURE_OPENAI_ADVERSARIAL_DEPLOYMENT_NAME\")\n",
    "# azure_openai_endpoint = os.environ.get(\"AZURE_OPENAI_ADVERSARIAL_ENDPOINT\")\n",
    "# azure_openai_api_key = os.environ.get(\"AZURE_OPENAI_ADVERSARIAL_API_KEY\")\n",
    "# azure_openai_api_version = os.environ.get(\"AZURE_OPENAI_ADVERSARIAL_API_VERSION\")\n",
    "\n",
    "azure_openai_deployment = os.environ.get(\"AZURE_OPENAI_UNSAFE_DEPLOYMENT_NAME\")\n",
    "azure_openai_endpoint = os.environ.get(\"AZURE_OPENAI_UNSAFE_ENDPOINT\")\n",
    "azure_openai_api_key = os.environ.get(\"AZURE_OPENAI_UNSAFE_API_KEY\")\n",
    "azure_openai_api_version = os.environ.get(\"AZURE_OPENAI_UNSAFE_API_VERSION\")"
   ]
  },
  {
   "cell_type": "code",
   "execution_count": 4,
   "id": "8e2ed117",
   "metadata": {},
   "outputs": [],
   "source": [
    "# Define a callback that uses Azure OpenAI API to generate responses\n",
    "async def azure_openai_callback(\n",
    "    messages: list,\n",
    "    stream: Optional[bool] = False,\n",
    "    session_state: Optional[str] = None,\n",
    "    context: Optional[Dict[str, Any]] = None,\n",
    ") -> dict[str, list[dict[str, str]]]:\n",
    "    \n",
    "    # Get token provider for Azure AD authentication\n",
    "    token_provider = get_bearer_token_provider(credential, \"https://cognitiveservices.azure.com/.default\")\n",
    "\n",
    "    # Initialize Azure OpenAI client\n",
    "    client = AzureOpenAI(\n",
    "        azure_endpoint=azure_openai_endpoint,\n",
    "        api_version=azure_openai_api_version,\n",
    "        azure_ad_token_provider=token_provider,\n",
    "    )\n",
    "\n",
    "    ## Extract the latest message from the conversation history\n",
    "    messages_list = [{\"role\": message.role, \"content\": message.content} for message in messages]\n",
    "    latest_message = messages_list[-1][\"content\"]\n",
    "\n",
    "    try:\n",
    "        # Call the model\n",
    "        response = client.chat.completions.create(\n",
    "            model=azure_openai_deployment,\n",
    "            messages=[\n",
    "                {\"role\": \"user\", \"content\": latest_message},\n",
    "            ],\n",
    "            # max_tokens=500, # If using an o1 base model, comment this line out\n",
    "            max_completion_tokens=500,  # If using an o1 base model, uncomment this line\n",
    "            # temperature=0.7, # If using an o1 base model, comment this line out (temperature param not supported for o1 base models)\n",
    "        )\n",
    "\n",
    "        # Format the response to follow the expected chat protocol format\n",
    "        formatted_response = {\"content\": response.choices[0].message.content, \"role\": \"assistant\"}\n",
    "    except Exception as e:\n",
    "        print(f\"Error calling Azure OpenAI: {e!s}\")\n",
    "        formatted_response = \"I encountered an error and couldn't process your request.\"\n",
    "    return {\"messages\": [formatted_response]}\n"
   ]
  },
  {
   "cell_type": "code",
   "execution_count": 5,
   "id": "9549a4f9",
   "metadata": {},
   "outputs": [
    {
     "name": "stderr",
     "output_type": "stream",
     "text": [
      "Class RedTeam: This is an experimental class, and may change at any time. Please see https://aka.ms/azuremlexperimental for more information.\n"
     ]
    }
   ],
   "source": [
    "# Create the RedTeam instance with all of the risk categories with 5 attack objectives generated for each category\n",
    "red_team = RedTeam(\n",
    "    azure_ai_project=azure_ai_project,\n",
    "    credential=credential,\n",
    "    risk_categories=[RiskCategory.Violence, RiskCategory.HateUnfairness, RiskCategory.Sexual, RiskCategory.SelfHarm],\n",
    "    num_objectives=5,\n",
    ")"
   ]
  },
  {
   "cell_type": "code",
   "execution_count": null,
   "id": "c88d4148",
   "metadata": {},
   "outputs": [],
   "source": [
    "result = await red_team.scan(\n",
    "    target=azure_openai_callback,\n",
    "    scan_name=\"Basic-Callback-Scan\",\n",
    "    attack_strategies=[AttackStrategy.EASY],\n",
    "    output_path=\"red_team_output.json\",\n",
    ")"
   ]
  },
  {
   "cell_type": "code",
   "execution_count": null,
   "id": "57967d85",
   "metadata": {},
   "outputs": [],
   "source": [
    "# # Run the red team scan with multiple attack strategies\n",
    "# advanced_result = await model_red_team.scan(\n",
    "#     target=azure_openai_callback,\n",
    "#     scan_name=\"Advanced-Callback-Scan\",\n",
    "#     attack_strategies=[\n",
    "#         AttackStrategy.EASY,  # Group of easy complexity attacks\n",
    "#         AttackStrategy.MODERATE,  # Group of moderate complexity attacks\n",
    "#         AttackStrategy.CharacterSpace,  # Add character spaces\n",
    "#         AttackStrategy.ROT13,  # Use ROT13 encoding\n",
    "#         AttackStrategy.UnicodeConfusable,  # Use confusable Unicode characters\n",
    "#         AttackStrategy.CharSwap,  # Swap characters in prompts\n",
    "#         AttackStrategy.Morse,  # Encode prompts in Morse code\n",
    "#         AttackStrategy.Leetspeak,  # Use Leetspeak\n",
    "#         AttackStrategy.Url,  # Use URLs in prompts\n",
    "#         AttackStrategy.Binary,  # Encode prompts in binary\n",
    "#         AttackStrategy.Compose([AttackStrategy.Base64, AttackStrategy.ROT13]),  # Use two strategies in one attack\n",
    "#     ],\n",
    "#     output_path=\"Advanced-Callback-Scan.json\",\n",
    "# )"
   ]
  }
 ],
 "metadata": {
  "kernelspec": {
   "display_name": "venv (3.13.4)",
   "language": "python",
   "name": "python3"
  },
  "language_info": {
   "codemirror_mode": {
    "name": "ipython",
    "version": 3
   },
   "file_extension": ".py",
   "mimetype": "text/x-python",
   "name": "python",
   "nbconvert_exporter": "python",
   "pygments_lexer": "ipython3",
   "version": "3.13.4"
  }
 },
 "nbformat": 4,
 "nbformat_minor": 5
}
