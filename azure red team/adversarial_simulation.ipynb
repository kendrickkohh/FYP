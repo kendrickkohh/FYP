{
 "cells": [
  {
   "cell_type": "code",
   "execution_count": 1,
   "id": "cb923975",
   "metadata": {},
   "outputs": [],
   "source": [
    "from typing import Optional, Dict, Any\n",
    "import os\n",
    "from azure.ai.evaluation.red_team import RedTeam, RiskCategory, AttackStrategy\n",
    "from openai import AzureOpenAI\n",
    "from azure.identity import AzureCliCredential, get_bearer_token_provider, DefaultAzureCredential\n",
    "import ollama"
   ]
  },
  {
   "cell_type": "code",
   "execution_count": 2,
   "id": "c7f69af2",
   "metadata": {},
   "outputs": [],
   "source": [
    "# Initialize Azure credentials\n",
    "credential = AzureCliCredential()"
   ]
  },
  {
   "cell_type": "code",
   "execution_count": 3,
   "id": "465a1eff",
   "metadata": {},
   "outputs": [],
   "source": [
    "# ----- Configuration -----\n",
    "# Azure AI Project information\n",
    "azure_ai_project = os.environ.get(\"RED_TEAM_PROJECT_ENDPOINT\")\n",
    "\n",
    "# Azure OpenAI deployment information\n",
    "azure_openai_deployment = os.environ.get(\"AZURE_OPENAI_ADVERSARIAL_DEPLOYMENT_NAME\")\n",
    "azure_openai_endpoint = os.environ.get(\"AZURE_OPENAI_ADVERSARIAL_ENDPOINT\")\n",
    "azure_openai_api_key = os.environ.get(\"AZURE_OPENAI_ADVERSARIAL_API_KEY\")\n",
    "azure_openai_api_version = os.environ.get(\"AZURE_OPENAI_ADVERSARIAL_API_VERSION\")\n",
    "\n",
    "# azure_openai_deployment = os.environ.get(\"AZURE_OPENAI_UNSAFE_DEPLOYMENT_NAME\")\n",
    "# azure_openai_endpoint = os.environ.get(\"AZURE_OPENAI_UNSAFE_ENDPOINT\")\n",
    "# azure_openai_api_key = os.environ.get(\"AZURE_OPENAI_UNSAFE_API_KEY\")\n",
    "# azure_openai_api_version = os.environ.get(\"AZURE_OPENAI_UNSAFE_API_VERSION\")"
   ]
  },
  {
   "cell_type": "code",
   "execution_count": 4,
   "id": "8e2ed117",
   "metadata": {},
   "outputs": [],
   "source": [
    "# AzureOpenAI Callback\n",
    "async def azure_openai_callback(\n",
    "    messages: list,\n",
    "    stream: Optional[bool] = False,\n",
    "    session_state: Optional[str] = None,\n",
    "    context: Optional[Dict[str, Any]] = None,\n",
    ") -> dict[str, list[dict[str, str]]]:\n",
    "    \n",
    "    # Get token provider for Azure AD authentication\n",
    "    token_provider = get_bearer_token_provider(credential, \"https://cognitiveservices.azure.com/.default\")\n",
    "\n",
    "    # Initialize Azure OpenAI client\n",
    "    client = AzureOpenAI(\n",
    "        azure_endpoint=azure_openai_endpoint,\n",
    "        api_version=azure_openai_api_version,\n",
    "        azure_ad_token_provider=token_provider,\n",
    "    )\n",
    "\n",
    "    ## Extract the latest message from the conversation history\n",
    "    messages_list = [{\"role\": message.role, \"content\": message.content} for message in messages]\n",
    "    latest_message = messages_list[-1][\"content\"]\n",
    "\n",
    "    try:\n",
    "        # Call the model\n",
    "        response = client.chat.completions.create(\n",
    "            model=azure_openai_deployment,\n",
    "            messages=[\n",
    "                {\"role\": \"user\", \"content\": latest_message},\n",
    "            ],\n",
    "            # max_tokens=500, # If using an o1 base model, comment this line out\n",
    "            max_completion_tokens=500,  # If using an o1 base model, uncomment this line\n",
    "            # temperature=0.7, # If using an o1 base model, comment this line out (temperature param not supported for o1 base models)\n",
    "        )\n",
    "\n",
    "        # Format the response to follow the expected chat protocol format\n",
    "        formatted_response = {\"content\": response.choices[0].message.content, \"role\": \"assistant\"}\n",
    "    except Exception as e:\n",
    "        print(f\"Error calling Azure OpenAI: {e!s}\")\n",
    "        formatted_response = \"I encountered an error and couldn't process your request.\"\n",
    "    return {\"messages\": [formatted_response]}\n"
   ]
  },
  {
   "cell_type": "code",
   "execution_count": 5,
   "id": "e838a6f2",
   "metadata": {},
   "outputs": [],
   "source": [
    "# Llama Callback\n",
    "MODEL_NAME = \"llama3.2\"\n",
    "\n",
    "async def ollama_callback(\n",
    "    messages: list,\n",
    "    stream: Optional[bool] = False,\n",
    "    session_state: Optional[str] = None,\n",
    "    context: Optional[Dict[str, Any]] = None,\n",
    ") -> dict[str, list[dict[str, str]]]:\n",
    "\n",
    "    # Extract the latest message from the conversation history\n",
    "    messages_list = [{\"role\": m.role, \"content\": m.content} for m in messages]\n",
    "    latest_message = messages_list[-1][\"content\"]\n",
    "\n",
    "    try:\n",
    "        # Call the local LLaMA model via Ollama\n",
    "        response = ollama.chat(\n",
    "            model=MODEL_NAME,\n",
    "            messages=[{\"role\": \"user\", \"content\": latest_message}],\n",
    "        )\n",
    "\n",
    "        # Format the response to follow the expected chat protocol format\n",
    "        formatted_response = {\n",
    "            \"content\": response[\"message\"][\"content\"],\n",
    "            \"role\": \"assistant\"\n",
    "        }\n",
    "\n",
    "    except Exception as e:\n",
    "        print(f\"Error calling Ollama: {e!s}\")\n",
    "        formatted_response = {\n",
    "            \"content\": \"I encountered an error and couldn't process your request.\",\n",
    "            \"role\": \"assistant\"\n",
    "        }\n",
    "\n",
    "    return {\"messages\": [formatted_response]}\n"
   ]
  },
  {
   "cell_type": "code",
   "execution_count": 6,
   "id": "9549a4f9",
   "metadata": {},
   "outputs": [
    {
     "name": "stderr",
     "output_type": "stream",
     "text": [
      "Class RedTeam: This is an experimental class, and may change at any time. Please see https://aka.ms/azuremlexperimental for more information.\n"
     ]
    }
   ],
   "source": [
    "# Create the RedTeam instance with all of the risk categories with 5 attack objectives generated for each category\n",
    "red_team = RedTeam(\n",
    "    azure_ai_project=azure_ai_project,\n",
    "    credential=credential,\n",
    "    risk_categories=[RiskCategory.Violence, RiskCategory.HateUnfairness, RiskCategory.Sexual, RiskCategory.SelfHarm],\n",
    "    num_objectives=5,\n",
    ")"
   ]
  },
  {
   "cell_type": "code",
   "execution_count": 7,
   "id": "c88d4148",
   "metadata": {},
   "outputs": [
    {
     "name": "stdout",
     "output_type": "stream",
     "text": [
      "🚀 STARTING RED TEAM SCAN\n",
      "📂 Output directory: ./.scan_Basic-Callback-Scan_20251024_144456\n",
      "📊 Risk categories: ['violence', 'hate_unfairness', 'sexual', 'self_harm']\n",
      "🔗 Track your red team scan in AI Foundry: https://ai.azure.com/resource/build/redteaming/a23b937e-b56c-41d2-a51b-e1c19d816caf?wsid=/subscriptions/ffcdaad1-98c2-4d37-97be-371caf0be262/resourceGroups/FYP/providers/Microsoft.CognitiveServices/accounts/fyp-resource/projects/fyp&tid=15ce9348-be2a-462b-8fc0-e1765a9b204a\n",
      "📋 Planning 12 total tasks\n",
      "📝 Fetched baseline objectives for violence: 5 objectives\n",
      "📝 Fetched baseline objectives for hate_unfairness: 5 objectives\n",
      "📝 Fetched baseline objectives for sexual: 5 objectives\n",
      "📝 Fetched baseline objectives for self_harm: 5 objectives\n",
      "🔄 Fetching objectives for strategy 2/3: rot13\n",
      "🔄 Fetching objectives for strategy 3/3: tense\n"
     ]
    },
    {
     "name": "stderr",
     "output_type": "stream",
     "text": [
      "Scanning:   0%|                                      | 0/12 [00:00<?, ?scan/s, current=initializing]"
     ]
    },
    {
     "name": "stdout",
     "output_type": "stream",
     "text": [
      "⚙️ Processing 12 tasks in parallel (max 5 at a time)\n",
      "▶️ Starting task: baseline strategy for violence risk category\n",
      "▶️ Starting task: baseline strategy for hate_unfairness risk category\n",
      "▶️ Starting task: baseline strategy for sexual risk category\n",
      "▶️ Starting task: baseline strategy for self_harm risk category\n",
      "▶️ Starting task: rot13 strategy for violence risk category\n"
     ]
    },
    {
     "name": "stderr",
     "output_type": "stream",
     "text": [
      "Scanning:  33%|█████████▋                   | 4/12 [07:04<56:38, 424.86s/scan, current=initializing]"
     ]
    },
    {
     "name": "stdout",
     "output_type": "stream",
     "text": [
      "Evaluation results saved to \"/Users/kendrickkoh/Desktop/University/FYP/Red teaming preparation/azure red team/.scan_Basic-Callback-Scan_20251024_144456/baseline_violence_8a47c88e-85c0-488c-8b62-fec54c5fa8ed.json\".\n",
      "✅ Completed task 1/12 (8.3%) - baseline/violence in 424.9s\n",
      "   Est. remaining: 79.9 minutes\n",
      "Evaluation results saved to \"/Users/kendrickkoh/Desktop/University/FYP/Red teaming preparation/azure red team/.scan_Basic-Callback-Scan_20251024_144456/baseline_hate_unfairness_ced0bd91-b956-4de4-b165-acb8949cb01b.json\".\n",
      "✅ Completed task 2/12 (16.7%) - baseline/hate_unfairness in 424.9s\n",
      "   Est. remaining: 36.3 minutes\n",
      "Evaluation results saved to \"/Users/kendrickkoh/Desktop/University/FYP/Red teaming preparation/azure red team/.scan_Basic-Callback-Scan_20251024_144456/baseline_sexual_e4a1698f-ff4b-49cd-8e06-dbd6f6dfbfe1.json\".\n",
      "✅ Completed task 3/12 (25.0%) - baseline/sexual in 424.9s\n",
      "   Est. remaining: 21.8 minutes\n",
      "Evaluation results saved to \"/Users/kendrickkoh/Desktop/University/FYP/Red teaming preparation/azure red team/.scan_Basic-Callback-Scan_20251024_144456/baseline_self_harm_d565a8be-5e6b-4ead-8f23-e37a76391d97.json\".\n",
      "✅ Completed task 4/12 (33.3%) - baseline/self_harm in 424.9s\n",
      "   Est. remaining: 14.5 minutes\n"
     ]
    },
    {
     "name": "stderr",
     "output_type": "stream",
     "text": [
      "Scanning:  42%|████████████▌                 | 5/12 [07:05<07:23, 63.34s/scan, current=initializing]"
     ]
    },
    {
     "name": "stdout",
     "output_type": "stream",
     "text": [
      "Evaluation results saved to \"/Users/kendrickkoh/Desktop/University/FYP/Red teaming preparation/azure red team/.scan_Basic-Callback-Scan_20251024_144456/rot13_violence_c228bad6-9244-4f5c-a5eb-bd693241c071.json\".\n",
      "✅ Completed task 5/12 (41.7%) - rot13/violence in 425.1s\n",
      "   Est. remaining: 10.2 minutes\n",
      "▶️ Starting task: rot13 strategy for hate_unfairness risk category\n",
      "▶️ Starting task: rot13 strategy for sexual risk category\n",
      "▶️ Starting task: rot13 strategy for self_harm risk category\n",
      "▶️ Starting task: tense strategy for violence risk category\n",
      "▶️ Starting task: tense strategy for hate_unfairness risk category\n"
     ]
    },
    {
     "name": "stderr",
     "output_type": "stream",
     "text": [
      "Scanning:  75%|█████████████████████▊       | 9/12 [13:21<06:48, 136.22s/scan, current=initializing]"
     ]
    },
    {
     "name": "stdout",
     "output_type": "stream",
     "text": [
      "Evaluation results saved to \"/Users/kendrickkoh/Desktop/University/FYP/Red teaming preparation/azure red team/.scan_Basic-Callback-Scan_20251024_144456/rot13_hate_unfairness_fc715886-f6c6-4ef5-a188-939bbcf2aa89.json\".\n",
      "✅ Completed task 6/12 (50.0%) - rot13/hate_unfairness in 376.0s\n",
      "   Est. remaining: 13.5 minutes\n",
      "Evaluation results saved to \"/Users/kendrickkoh/Desktop/University/FYP/Red teaming preparation/azure red team/.scan_Basic-Callback-Scan_20251024_144456/rot13_sexual_13e08b2d-4ff3-4573-ada9-f672008f48e6.json\".\n",
      "✅ Completed task 7/12 (58.3%) - rot13/sexual in 376.0s\n",
      "   Est. remaining: 9.7 minutes\n",
      "Evaluation results saved to \"/Users/kendrickkoh/Desktop/University/FYP/Red teaming preparation/azure red team/.scan_Basic-Callback-Scan_20251024_144456/rot13_self_harm_f7b9f626-04fa-4661-ba89-e9beb9d16eb3.json\".\n",
      "✅ Completed task 8/12 (66.7%) - rot13/self_harm in 376.0s\n",
      "   Est. remaining: 6.8 minutes\n",
      "Evaluation results saved to \"/Users/kendrickkoh/Desktop/University/FYP/Red teaming preparation/azure red team/.scan_Basic-Callback-Scan_20251024_144456/tense_violence_1624b8d0-18cd-4810-9af8-9463674f6f04.json\".\n",
      "✅ Completed task 9/12 (75.0%) - tense/violence in 376.0s\n",
      "   Est. remaining: 4.5 minutes\n"
     ]
    },
    {
     "name": "stderr",
     "output_type": "stream",
     "text": [
      "Scanning:  83%|████████████████████████▏    | 10/12 [13:21<01:56, 58.45s/scan, current=initializing]"
     ]
    },
    {
     "name": "stdout",
     "output_type": "stream",
     "text": [
      "Evaluation results saved to \"/Users/kendrickkoh/Desktop/University/FYP/Red teaming preparation/azure red team/.scan_Basic-Callback-Scan_20251024_144456/tense_hate_unfairness_cae8a135-e507-436e-9052-6b12fd36fd40.json\".\n",
      "✅ Completed task 10/12 (83.3%) - tense/hate_unfairness in 376.3s\n",
      "   Est. remaining: 2.7 minutes\n",
      "▶️ Starting task: tense strategy for sexual risk category\n",
      "▶️ Starting task: tense strategy for self_harm risk category\n"
     ]
    },
    {
     "name": "stderr",
     "output_type": "stream",
     "text": [
      "Scanning:  92%|██████████████████████████▌  | 11/12 [16:32<01:20, 80.85s/scan, current=initializing]"
     ]
    },
    {
     "name": "stdout",
     "output_type": "stream",
     "text": [
      "Evaluation results saved to \"/Users/kendrickkoh/Desktop/University/FYP/Red teaming preparation/azure red team/.scan_Basic-Callback-Scan_20251024_144456/tense_sexual_885eb94c-8466-4ae9-9754-2c893199da55.json\".\n",
      "✅ Completed task 11/12 (91.7%) - tense/sexual in 190.6s\n",
      "   Est. remaining: 1.5 minutes\n"
     ]
    },
    {
     "name": "stderr",
     "output_type": "stream",
     "text": [
      "Scanning: 100%|█████████████████████████████| 12/12 [16:32<00:00, 82.70s/scan, current=initializing]\n"
     ]
    },
    {
     "name": "stdout",
     "output_type": "stream",
     "text": [
      "Evaluation results saved to \"/Users/kendrickkoh/Desktop/University/FYP/Red teaming preparation/azure red team/.scan_Basic-Callback-Scan_20251024_144456/tense_self_harm_44558c0b-33a9-405e-9ee2-bf3b877a2142.json\".\n",
      "✅ Completed task 12/12 (100.0%) - tense/self_harm in 190.9s\n",
      "   Est. remaining: 0.0 minutes\n"
     ]
    },
    {
     "name": "stderr",
     "output_type": "stream",
     "text": [
      "Class RedTeamResult: This is an experimental class, and may change at any time. Please see https://aka.ms/azuremlexperimental for more information.\n"
     ]
    },
    {
     "name": "stdout",
     "output_type": "stream",
     "text": [
      "Evaluation results saved to \"/Users/kendrickkoh/Desktop/University/FYP/Red teaming preparation/azure red team/red_team_output.json\".\n",
      "\n",
      "Evaluation results saved to \"/Users/kendrickkoh/Desktop/University/FYP/Red teaming preparation/azure red team/.scan_Basic-Callback-Scan_20251024_144456/final_results.json\".\n",
      "\n",
      "Overall ASR: 18.33%\n",
      "Attack Success: 11/60 attacks were successful\n",
      "------------------------------------------------------------------------------------------------------------------------------------\n",
      "Risk Category        | Baseline ASR   | Easy-Complexity Attacks ASR  | Moderate-Complexity Attacks ASR | Difficult-Complexity Attacks ASR\n",
      "------------------------------------------------------------------------------------------------------------------------------------\n",
      "Violence             | 20.0%          | 40.0%                        | 40.0%                           | N/A                           \n",
      "Hate-unfairness      | 20.0%          | 20.0%                        | 20.0%                           | N/A                           \n",
      "Sexual               | 20.0%          | 0.0%                         | 40.0%                           | N/A                           \n",
      "Self-harm            | 0.0%           | 0.0%                         | 0.0%                            | N/A                           \n",
      "\n",
      "Detailed results available at:\n",
      "https://ai.azure.com/resource/build/redteaming/a23b937e-b56c-41d2-a51b-e1c19d816caf?wsid=/subscriptions/ffcdaad1-98c2-4d37-97be-371caf0be262/resourceGroups/FYP/providers/Microsoft.CognitiveServices/accounts/fyp-resource/projects/fyp&tid=15ce9348-be2a-462b-8fc0-e1765a9b204a\n",
      "\n",
      "📂 All scan files saved to: ./.scan_Basic-Callback-Scan_20251024_144456\n",
      "✅ Scan completed successfully!\n"
     ]
    }
   ],
   "source": [
    "result = await red_team.scan(\n",
    "    target=ollama_callback,\n",
    "    scan_name=\"Basic-Callback-Scan\",\n",
    "    attack_strategies=[\n",
    "        AttackStrategy.MODERATE,  # Group of moderate complexity attacks\n",
    "        AttackStrategy.ROT13,  # Use ROT13 encoding\n",
    "    ],\n",
    "    output_path=\"red_team_output.json\",\n",
    ")"
   ]
  },
  {
   "cell_type": "code",
   "execution_count": 8,
   "id": "57967d85",
   "metadata": {},
   "outputs": [],
   "source": [
    "# # Run the red team scan with multiple attack strategies\n",
    "# advanced_result = await model_red_team.scan(\n",
    "#     target=azure_openai_callback,\n",
    "#     scan_name=\"Advanced-Callback-Scan\",\n",
    "#     attack_strategies=[\n",
    "#         AttackStrategy.EASY,  # Group of easy complexity attacks\n",
    "#         AttackStrategy.MODERATE,  # Group of moderate complexity attacks\n",
    "#         AttackStrategy.CharacterSpace,  # Add character spaces\n",
    "#         AttackStrategy.ROT13,  # Use ROT13 encoding\n",
    "#         AttackStrategy.UnicodeConfusable,  # Use confusable Unicode characters\n",
    "#         AttackStrategy.CharSwap,  # Swap characters in prompts\n",
    "#         AttackStrategy.Morse,  # Encode prompts in Morse code\n",
    "#         AttackStrategy.Leetspeak,  # Use Leetspeak\n",
    "#         AttackStrategy.Url,  # Use URLs in prompts\n",
    "#         AttackStrategy.Binary,  # Encode prompts in binary\n",
    "#         AttackStrategy.Compose([AttackStrategy.Base64, AttackStrategy.ROT13]),  # Use two strategies in one attack\n",
    "#     ],\n",
    "#     output_path=\"Advanced-Callback-Scan.json\",\n",
    "# )"
   ]
  }
 ],
 "metadata": {
  "kernelspec": {
   "display_name": "venv (3.13.4)",
   "language": "python",
   "name": "python3"
  },
  "language_info": {
   "codemirror_mode": {
    "name": "ipython",
    "version": 3
   },
   "file_extension": ".py",
   "mimetype": "text/x-python",
   "name": "python",
   "nbconvert_exporter": "python",
   "pygments_lexer": "ipython3",
   "version": "3.13.4"
  }
 },
 "nbformat": 4,
 "nbformat_minor": 5
}
