{
 "cells": [
  {
   "cell_type": "code",
   "execution_count": 1,
   "id": "1f35fdc1-eb04-4f06-95e2-ed6aad888d75",
   "metadata": {},
   "outputs": [
    {
     "name": "stdout",
     "output_type": "stream",
     "text": [
      "6\n"
     ]
    }
   ],
   "source": [
    "import pathlib\n",
    "\n",
    "from pyrit.common.initialization import initialize_pyrit\n",
    "from pyrit.common.path import DATASETS_PATH\n",
    "from pyrit.memory.central_memory import CentralMemory\n",
    "from pyrit.models import SeedPromptDataset\n",
    "\n",
    "initialize_pyrit(memory_db_type=\"InMemory\")\n",
    "\n",
    "memory = CentralMemory.get_memory_instance()\n",
    "\n",
    "seed_prompts = SeedPromptDataset.from_yaml_file(pathlib.Path(DATASETS_PATH) / \"seed_prompts\" / \"illegal.prompt\")\n",
    "\n",
    "await memory.add_seed_prompts_to_memory_async(prompts = seed_prompts.prompts, added_by = \"nichikan\")\n",
    "\n",
    "groups = memory.get_seed_prompt_groups()\n",
    "print(len(groups))"
   ]
  },
  {
   "cell_type": "code",
   "execution_count": null,
   "id": "b950030f-a4c3-4515-aeb0-ef40d6d61594",
   "metadata": {},
   "outputs": [],
   "source": [
    "from pyrit_models import prompt "
   ]
  }
 ],
 "metadata": {
  "kernelspec": {
   "display_name": "Python 3 (ipykernel)",
   "language": "python",
   "name": "python3"
  },
  "language_info": {
   "codemirror_mode": {
    "name": "ipython",
    "version": 3
   },
   "file_extension": ".py",
   "mimetype": "text/x-python",
   "name": "python",
   "nbconvert_exporter": "python",
   "pygments_lexer": "ipython3",
   "version": "3.13.4"
  }
 },
 "nbformat": 4,
 "nbformat_minor": 5
}
